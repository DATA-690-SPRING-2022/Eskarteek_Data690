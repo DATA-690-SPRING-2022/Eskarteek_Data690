{
  "nbformat": 4,
  "nbformat_minor": 0,
  "metadata": {
    "colab": {
      "name": "Assignment_2.ipynb",
      "provenance": []
    },
    "kernelspec": {
      "name": "python3",
      "display_name": "Python 3"
    },
    "language_info": {
      "name": "python"
    }
  },
  "cells": [
    {
      "cell_type": "markdown",
      "source": [
        "Data 690 Assignment 2"
      ],
      "metadata": {
        "id": "Khy2XS_nt182"
      }
    },
    {
      "cell_type": "code",
      "execution_count": null,
      "metadata": {
        "id": "tOI6mxIQtyFz"
      },
      "outputs": [],
      "source": [
        ""
      ]
    }
  ]
}