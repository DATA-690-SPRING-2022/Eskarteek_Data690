{
  "nbformat": 4,
  "nbformat_minor": 0,
  "metadata": {
    "colab": {
      "name": "assignment_01.ipynb",
      "provenance": [],
      "collapsed_sections": []
    },
    "kernelspec": {
      "name": "python3",
      "display_name": "Python 3"
    },
    "language_info": {
      "name": "python"
    }
  },
  "cells": [
    {
      "cell_type": "markdown",
      "source": [
        "##Assignment 1 for DATA 690 SPRING 2022\n",
        "\n",
        "Instructor: Dr Jay Wang\n",
        "\n",
        "\n",
        "\n",
        "Student: Sai Karteek Edumudi\n",
        "\n",
        "\n",
        "\n",
        "Date:04/02/2022"
      ],
      "metadata": {
        "id": "ztOi2heM-KH9"
      }
    },
    {
      "cell_type": "markdown",
      "source": [
        "##1. Simplest Python Code"
      ],
      "metadata": {
        "id": "0Fz_fmzk-mMT"
      }
    },
    {
      "cell_type": "code",
      "source": [
        "print(\"My first assignment\")"
      ],
      "metadata": {
        "colab": {
          "base_uri": "https://localhost:8080/"
        },
        "id": "-xdqCcUg-npm",
        "outputId": "65f25d25-8806-4e28-8920-ed8ee4ff44d2"
      },
      "execution_count": 2,
      "outputs": [
        {
          "output_type": "stream",
          "name": "stdout",
          "text": [
            "My first assignment\n"
          ]
        }
      ]
    },
    {
      "cell_type": "markdown",
      "source": [
        "##2. Perform multiplication"
      ],
      "metadata": {
        "id": "KY_cxsw--vRp"
      }
    },
    {
      "cell_type": "code",
      "source": [
        "mul = 23*6\n",
        "print(mul)"
      ],
      "metadata": {
        "colab": {
          "base_uri": "https://localhost:8080/"
        },
        "id": "BrSmP3Uh-rZd",
        "outputId": "676a7450-6026-476b-dc6f-e86ec284d495"
      },
      "execution_count": 6,
      "outputs": [
        {
          "output_type": "stream",
          "name": "stdout",
          "text": [
            "138\n"
          ]
        }
      ]
    },
    {
      "cell_type": "markdown",
      "source": [
        "##3. Perform Division"
      ],
      "metadata": {
        "id": "W4_83hQq_DqK"
      }
    },
    {
      "cell_type": "code",
      "source": [
        "div = 144/12\n",
        "print(div)"
      ],
      "metadata": {
        "colab": {
          "base_uri": "https://localhost:8080/"
        },
        "id": "RDzok56e-0WI",
        "outputId": "1215c9d5-1cec-40cb-b64b-8976997f3718"
      },
      "execution_count": 7,
      "outputs": [
        {
          "output_type": "stream",
          "name": "stdout",
          "text": [
            "12.0\n"
          ]
        }
      ]
    },
    {
      "cell_type": "markdown",
      "source": [
        "## 4. Addition"
      ],
      "metadata": {
        "id": "YpplrAse_Mng"
      }
    },
    {
      "cell_type": "code",
      "source": [
        "add = 5+2\n",
        "print(add)"
      ],
      "metadata": {
        "colab": {
          "base_uri": "https://localhost:8080/"
        },
        "id": "ekk2CPqF_QQa",
        "outputId": "f543f14c-0985-43ce-d4e0-f469f496bb0a"
      },
      "execution_count": 8,
      "outputs": [
        {
          "output_type": "stream",
          "name": "stdout",
          "text": [
            "7\n"
          ]
        }
      ]
    }
  ]
}