{
 "cells": [
  {
   "cell_type": "markdown",
   "metadata": {},
   "source": [
    "# Data 690 Assignment_02\n",
    "\n",
    "## Homework \n",
    "\n",
    "- Name: Sai Karteek\n",
    "\n",
    "- Date: 02/08/2022"
   ]
  },
  {
   "cell_type": "code",
   "execution_count": 1,
   "metadata": {},
   "outputs": [
    {
     "name": "stdout",
     "output_type": "stream",
     "text": [
      "Enter integer 1: 2\n",
      "Enter integer 2: 33\n",
      "Enter integer 3: 4\n",
      "Enter integer 4: 1\n",
      "Enter integer 5: 5\n",
      "Enter integer 6: 67\n",
      "Enter integer 7: 8\n",
      "Enter integer 8: 10\n",
      "Enter integer 9: 14\n",
      "Enter integer 10: 21\n",
      "[2, 33, 4, 1, 5, 67, 8, 10, 14, 21]\n"
     ]
    }
   ],
   "source": [
    "count = 1\n",
    "num_list = []\n",
    "while count != 11:\n",
    "  user = input(f\"Enter integer {count}: \")\n",
    "  if user.isnumeric():\n",
    "    num_list.append(int(user))\n",
    "    count+=1\n",
    "  else:\n",
    "    print(\"please enter integers only\")\n",
    "print(num_list)"
   ]
  },
  {
   "cell_type": "code",
   "execution_count": 3,
   "metadata": {},
   "outputs": [],
   "source": [
    "#Sorting data using merge sort\n",
    "def merge_sort(numbers_list):\n",
    "    if len(numbers_list) > 1:\n",
    "        center = len(numbers_list)//2\n",
    "        left = numbers_list[:center]\n",
    "        right = numbers_list[center:]\n",
    "        merge_sort(left)\n",
    "        merge_sort(right)\n",
    "        \n",
    "        i = 0\n",
    "        j = 0\n",
    "        k = 0\n",
    "        \n",
    "        while i < len(left) and j < len(right):\n",
    "            if left[i] < right[j]:\n",
    "                numbers_list[k] = left[i]\n",
    "                i+=1\n",
    "                k+=1\n",
    "            else:\n",
    "                numbers_list[k] = right[j]\n",
    "                j+=1\n",
    "                k+=1\n",
    "        while i < len(left) or j < len(right):\n",
    "            if i < len(left):\n",
    "                numbers_list[k] = left[i]\n",
    "                i+=1\n",
    "                k+=1\n",
    "            else:\n",
    "                numbers_list[k] = right[j]\n",
    "                j+=1\n",
    "                k+=1\n",
    "                "
   ]
  },
  {
   "cell_type": "code",
   "execution_count": 4,
   "metadata": {},
   "outputs": [
    {
     "name": "stdout",
     "output_type": "stream",
     "text": [
      "[1, 2, 4, 5, 8, 10, 14, 21, 33, 67]\n"
     ]
    }
   ],
   "source": [
    "merge_sort(num_list)\n",
    "print(num_list)"
   ]
  },
  {
   "cell_type": "code",
   "execution_count": 5,
   "metadata": {},
   "outputs": [
    {
     "data": {
      "text/plain": [
       "1"
      ]
     },
     "execution_count": 5,
     "metadata": {},
     "output_type": "execute_result"
    }
   ],
   "source": [
    "#Min\n",
    "num_list[0]"
   ]
  },
  {
   "cell_type": "code",
   "execution_count": 6,
   "metadata": {},
   "outputs": [
    {
     "data": {
      "text/plain": [
       "67"
      ]
     },
     "execution_count": 6,
     "metadata": {},
     "output_type": "execute_result"
    }
   ],
   "source": [
    "#max\n",
    "num_list[-1]"
   ]
  },
  {
   "cell_type": "code",
   "execution_count": 7,
   "metadata": {},
   "outputs": [
    {
     "name": "stdout",
     "output_type": "stream",
     "text": [
      "Range of this is from 1 to 67\n"
     ]
    }
   ],
   "source": [
    "#Range\n",
    "print(f\"Range of this is from {num_list[0]} to {num_list[-1]}\")"
   ]
  },
  {
   "cell_type": "code",
   "execution_count": 11,
   "metadata": {},
   "outputs": [
    {
     "name": "stdout",
     "output_type": "stream",
     "text": [
      "16.5\n"
     ]
    }
   ],
   "source": [
    "#Mean\n",
    "s = 0\n",
    "for i in num_list:\n",
    "    s+=i\n",
    "mean = s/len(num_list)\n",
    "print(mean)"
   ]
  },
  {
   "cell_type": "code",
   "execution_count": 15,
   "metadata": {},
   "outputs": [
    {
     "name": "stdout",
     "output_type": "stream",
     "text": [
      "370.25\n"
     ]
    }
   ],
   "source": [
    "#Variance \n",
    "deviations = [(x - mean) ** 2 for x in num_list]\n",
    "# Variance\n",
    "variance = sum(deviations) / len(num_list)\n",
    "print(variance)"
   ]
  },
  {
   "cell_type": "code",
   "execution_count": 17,
   "metadata": {},
   "outputs": [
    {
     "name": "stdout",
     "output_type": "stream",
     "text": [
      "19.241881404893856\n"
     ]
    }
   ],
   "source": [
    "# Std deviation\n",
    "print(variance**0.5)"
   ]
  },
  {
   "cell_type": "code",
   "execution_count": null,
   "metadata": {},
   "outputs": [],
   "source": []
  },
  {
   "cell_type": "code",
   "execution_count": null,
   "metadata": {},
   "outputs": [],
   "source": []
  }
 ],
 "metadata": {
  "kernelspec": {
   "display_name": "Python 3",
   "language": "python",
   "name": "python3"
  },
  "language_info": {
   "codemirror_mode": {
    "name": "ipython",
    "version": 3
   },
   "file_extension": ".py",
   "mimetype": "text/x-python",
   "name": "python",
   "nbconvert_exporter": "python",
   "pygments_lexer": "ipython3",
   "version": "3.8.5"
  }
 },
 "nbformat": 4,
 "nbformat_minor": 4
}
