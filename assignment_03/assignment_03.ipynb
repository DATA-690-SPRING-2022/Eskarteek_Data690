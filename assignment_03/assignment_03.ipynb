{
  "nbformat": 4,
  "nbformat_minor": 0,
  "metadata": {
    "colab": {
      "name": "assignment_03",
      "provenance": [],
      "collapsed_sections": [],
      "authorship_tag": "ABX9TyMIi4CR8rAXTiftk4BiXqV9",
      "include_colab_link": true
    },
    "kernelspec": {
      "name": "python3",
      "display_name": "Python 3"
    },
    "language_info": {
      "name": "python"
    }
  },
  "cells": [
    {
      "cell_type": "markdown",
      "metadata": {
        "id": "view-in-github",
        "colab_type": "text"
      },
      "source": [
        "<a href=\"https://colab.research.google.com/github/Eskarteek/Eskarteek_Data690/blob/main/assignment_03/assignment_03.ipynb\" target=\"_parent\"><img src=\"https://colab.research.google.com/assets/colab-badge.svg\" alt=\"Open In Colab\"/></a>"
      ]
    },
    {
      "cell_type": "markdown",
      "source": [
        "## Data 690 assignment_03\n",
        "\n",
        "- Name: Sai Karteek\n",
        "\n",
        "- Date: 02/18/2022"
      ],
      "metadata": {
        "id": "zWy75YvP1zHN"
      }
    },
    {
      "cell_type": "code",
      "execution_count": 141,
      "metadata": {
        "id": "awL0XtvoIpnC"
      },
      "outputs": [],
      "source": [
        "import random"
      ]
    },
    {
      "cell_type": "markdown",
      "source": [
        "Write a program that generates 100 random integers between 0 and 9.\n",
        "\n",
        "1. Print them in a 10 by 10 matrix neatly arranged like the following (one space between each number):"
      ],
      "metadata": {
        "id": "oTPIQPlfa1W7"
      }
    },
    {
      "cell_type": "code",
      "source": [
        "for i in range(10):\n",
        "  for j in range(10):\n",
        "    print(random.randint(0,9), end = ' ')\n",
        "  print()"
      ],
      "metadata": {
        "colab": {
          "base_uri": "https://localhost:8080/"
        },
        "id": "UCbur_Qqa_I8",
        "outputId": "7cff4260-2ecd-4438-ee93-9c33b06470ef"
      },
      "execution_count": 142,
      "outputs": [
        {
          "output_type": "stream",
          "name": "stdout",
          "text": [
            "7 4 8 3 8 7 0 8 0 0 \n",
            "4 1 0 3 0 2 4 1 0 2 \n",
            "0 2 9 9 4 4 7 1 6 6 \n",
            "9 7 5 5 6 0 8 3 3 4 \n",
            "1 2 3 9 4 8 3 8 4 6 \n",
            "1 5 3 7 0 2 5 8 6 2 \n",
            "0 1 3 5 2 0 0 1 4 3 \n",
            "5 6 0 1 4 8 9 5 3 2 \n",
            "4 1 3 5 3 5 9 6 9 8 \n",
            "3 8 5 9 5 5 4 1 2 5 \n"
          ]
        }
      ]
    },
    {
      "cell_type": "markdown",
      "source": [
        "2. If the random number is an odd number, print \"@\" instead. like the following:"
      ],
      "metadata": {
        "id": "I5gIAHShbT5G"
      }
    },
    {
      "cell_type": "code",
      "source": [
        "from math import e\n",
        "for i in range(10):\n",
        "  for j in range(10):\n",
        "    r = random.randint(0,9)\n",
        "    if r%2 == 0:\n",
        "      print(r, end = ' ')\n",
        "    else:\n",
        "      print('@', end = ' ')\n",
        "  print()"
      ],
      "metadata": {
        "colab": {
          "base_uri": "https://localhost:8080/"
        },
        "id": "zLIMlKICbV9n",
        "outputId": "b85eec49-cbf7-48d8-d2ae-1c74d1ff28f0"
      },
      "execution_count": 143,
      "outputs": [
        {
          "output_type": "stream",
          "name": "stdout",
          "text": [
            "@ @ 4 0 2 2 @ 2 4 2 \n",
            "4 4 4 0 4 6 @ 4 6 2 \n",
            "8 @ 0 @ 2 @ @ 8 6 @ \n",
            "0 @ @ @ 8 @ 4 4 2 @ \n",
            "@ 6 @ @ 6 @ 8 6 0 @ \n",
            "@ 0 @ 0 6 @ @ 0 @ 4 \n",
            "@ @ @ @ @ @ 6 4 4 4 \n",
            "6 @ @ @ @ 4 @ 8 6 @ \n",
            "6 2 @ @ @ 2 6 8 @ @ \n",
            "4 6 @ @ @ 0 @ 2 @ 8 \n"
          ]
        }
      ]
    },
    {
      "cell_type": "markdown",
      "source": [
        "3. Calculate and Print the total of each row like the following (use \"*\" to separate the total from the numbers):"
      ],
      "metadata": {
        "id": "-Ac6VsH7br28"
      }
    },
    {
      "cell_type": "code",
      "source": [
        "s = 0\n",
        "for i in range(10):\n",
        "  for j in range(10):\n",
        "    r = random.randint(0,9)\n",
        "    s+=r\n",
        "    print(r,end = ' ')\n",
        "  print('*', end = ' ')\n",
        "  print(s, end = ' ')\n",
        "  s = 0\n",
        "  print()"
      ],
      "metadata": {
        "colab": {
          "base_uri": "https://localhost:8080/"
        },
        "id": "vOF-3b97btYT",
        "outputId": "16dd447a-fcb4-40b8-e1ea-dde418207488"
      },
      "execution_count": 144,
      "outputs": [
        {
          "output_type": "stream",
          "name": "stdout",
          "text": [
            "5 4 3 9 4 6 0 6 3 0 * 40 \n",
            "2 3 1 4 8 9 6 6 3 2 * 44 \n",
            "9 1 1 8 8 3 5 6 8 8 * 57 \n",
            "6 8 4 4 9 9 7 5 1 1 * 54 \n",
            "6 7 3 8 2 6 4 1 0 1 * 38 \n",
            "2 7 9 5 9 9 5 9 0 4 * 59 \n",
            "6 3 2 3 1 7 9 1 6 3 * 41 \n",
            "5 3 2 9 7 0 2 7 6 9 * 50 \n",
            "7 3 6 7 2 7 5 7 2 0 * 46 \n",
            "5 2 1 9 0 0 1 3 8 2 * 31 \n"
          ]
        }
      ]
    },
    {
      "cell_type": "markdown",
      "source": [
        "4. Surround the matrix with asterisks (*) like the following:"
      ],
      "metadata": {
        "id": "zUP2Su7kcX6M"
      }
    },
    {
      "cell_type": "code",
      "source": [
        "for i in range(11):\n",
        "  print('*', end = ' ')\n",
        "  for j in range(10):\n",
        "    if i < 10 and i > 0:\n",
        "      print(random.randint  (0,9), end = ' ')\n",
        "    else:\n",
        "      print('*', end = ' ')\n",
        "  print('*', end = ' ')\n",
        "  print()"
      ],
      "metadata": {
        "colab": {
          "base_uri": "https://localhost:8080/"
        },
        "id": "CZe_7vkIIsZ7",
        "outputId": "502d4c2e-f065-423c-a1bb-a198d97869aa"
      },
      "execution_count": 145,
      "outputs": [
        {
          "output_type": "stream",
          "name": "stdout",
          "text": [
            "* * * * * * * * * * * * \n",
            "* 9 2 3 4 1 8 5 5 0 1 * \n",
            "* 7 2 7 1 6 3 3 8 9 5 * \n",
            "* 5 4 9 8 0 4 8 1 6 3 * \n",
            "* 2 7 2 3 3 0 0 6 0 6 * \n",
            "* 0 9 8 5 3 3 1 2 0 6 * \n",
            "* 2 5 6 5 1 2 1 1 4 3 * \n",
            "* 8 7 9 0 0 3 3 1 4 1 * \n",
            "* 1 8 2 6 8 3 1 7 7 8 * \n",
            "* 9 9 0 8 3 7 9 8 4 8 * \n",
            "* * * * * * * * * * * * \n"
          ]
        }
      ]
    },
    {
      "cell_type": "markdown",
      "source": [
        "5. Calculate and Print the total of each row and column like the following:"
      ],
      "metadata": {
        "id": "P7ceZAIcfs-R"
      }
    },
    {
      "cell_type": "code",
      "source": [
        "#Creating a matrix\n",
        "rows = []\n",
        "matrix = []\n",
        "for i in range(10):\n",
        "  for j in range(10):\n",
        "    rows.append(random.randint(0,9))\n",
        "  matrix.append(rows)\n",
        "  rows = []\n",
        "\n",
        "\n",
        "#Iterating through the matrix to print and sum rows and columns\n",
        "\n",
        "row = 0\n",
        "column = 0\n",
        "c_list = []\n",
        "for i in range(11): # 11 because we want to print an extra ********** before printing the sum of columns\n",
        "\n",
        "  for j in range(10):\n",
        "\n",
        "    if i < 10 and j < 10:\n",
        "      r = matrix[i][j]\n",
        "      c = matrix[j][i]\n",
        "      print(r, end = '  ')\n",
        "      row+=r\n",
        "      column+=c\n",
        "    else:\n",
        "      print('*', end = '  ')\n",
        "\n",
        "  if i < 10 and j < 10:\n",
        "    print('*', end = '  ')\n",
        "    print(row, end = '  ')\n",
        "    row = 0\n",
        "    c_list.append(column)\n",
        "    column = 0\n",
        "  print()\n",
        "\n",
        "for k in c_list:\n",
        "  print(k, end = ' ')"
      ],
      "metadata": {
        "colab": {
          "base_uri": "https://localhost:8080/"
        },
        "id": "TbmbpAXlc_hM",
        "outputId": "a8bcbc93-7d36-4e44-97f2-8c4ae0aa27aa"
      },
      "execution_count": 146,
      "outputs": [
        {
          "output_type": "stream",
          "name": "stdout",
          "text": [
            "9  9  9  3  8  1  1  3  6  0  *  49  \n",
            "1  0  3  3  9  7  6  6  6  4  *  45  \n",
            "4  0  9  5  4  7  4  9  6  5  *  53  \n",
            "6  0  7  2  2  7  6  0  3  4  *  37  \n",
            "7  8  6  5  8  2  2  3  1  0  *  42  \n",
            "5  7  1  2  1  1  9  3  7  7  *  43  \n",
            "2  3  6  8  2  0  7  4  6  5  *  43  \n",
            "1  2  6  0  9  8  8  8  2  9  *  53  \n",
            "1  4  8  7  3  2  8  2  0  0  *  35  \n",
            "5  8  4  0  1  5  9  1  2  6  *  41  \n",
            "*  *  *  *  *  *  *  *  *  *  \n",
            "41 41 59 35 47 40 60 39 39 40 "
          ]
        }
      ]
    },
    {
      "cell_type": "code",
      "source": [
        ""
      ],
      "metadata": {
        "id": "RYpUuVf3on4D"
      },
      "execution_count": 138,
      "outputs": []
    },
    {
      "cell_type": "code",
      "source": [
        ""
      ],
      "metadata": {
        "id": "cbEiss_2qUnd"
      },
      "execution_count": null,
      "outputs": []
    }
  ]
}