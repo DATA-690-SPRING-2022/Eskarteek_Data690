{
  "nbformat": 4,
  "nbformat_minor": 0,
  "metadata": {
    "colab": {
      "name": "help_for_hw03.ipynb",
      "provenance": [],
      "authorship_tag": "ABX9TyPsRLovhz1baE/RpAPI3IRS",
      "include_colab_link": true
    },
    "kernelspec": {
      "name": "python3",
      "display_name": "Python 3"
    },
    "language_info": {
      "name": "python"
    }
  },
  "cells": [
    {
      "cell_type": "markdown",
      "metadata": {
        "id": "view-in-github",
        "colab_type": "text"
      },
      "source": [
        "<a href=\"https://colab.research.google.com/github/Eskarteek/Eskarteek_Data690/blob/main/assignment_03/help_for_hw03.ipynb\" target=\"_parent\"><img src=\"https://colab.research.google.com/assets/colab-badge.svg\" alt=\"Open In Colab\"/></a>"
      ]
    },
    {
      "cell_type": "markdown",
      "source": [
        "# Assignment_03\n",
        "\n",
        "## In class practice \n",
        "\n",
        "- Name: Sai Karteek\n",
        "\n",
        "- Date: 02/14/2022"
      ],
      "metadata": {
        "id": "YUqLmPPew-DR"
      }
    },
    {
      "cell_type": "code",
      "execution_count": 1,
      "metadata": {
        "id": "1nBy-raQw37r"
      },
      "outputs": [],
      "source": [
        "x = [2,5,13,'Karteek','Edumudi']"
      ]
    },
    {
      "cell_type": "code",
      "source": [
        "print(x)"
      ],
      "metadata": {
        "colab": {
          "base_uri": "https://localhost:8080/"
        },
        "id": "TY9_sGjfxKye",
        "outputId": "e6a96f34-64f1-4ae5-dfa6-ea8c90e3ae8d"
      },
      "execution_count": 2,
      "outputs": [
        {
          "output_type": "stream",
          "name": "stdout",
          "text": [
            "[2, 5, 13, 'Karteek', 'Edumudi']\n"
          ]
        }
      ]
    },
    {
      "cell_type": "code",
      "source": [
        "# for a in x:"
      ],
      "metadata": {
        "id": "yv1SE72OxODJ"
      },
      "execution_count": 5,
      "outputs": []
    },
    {
      "cell_type": "code",
      "source": [
        "5 in x"
      ],
      "metadata": {
        "colab": {
          "base_uri": "https://localhost:8080/"
        },
        "id": "s8OZWX-uxs8-",
        "outputId": "dd05e0fa-88a4-4624-bc47-63e8442c9edf"
      },
      "execution_count": 4,
      "outputs": [
        {
          "output_type": "execute_result",
          "data": {
            "text/plain": [
              "True"
            ]
          },
          "metadata": {},
          "execution_count": 4
        }
      ]
    },
    {
      "cell_type": "code",
      "source": [
        "if 5 in x:\n",
        "  print(\"5 is a member of list x.\")\n",
        "else:\n",
        "  print('5 is not a number')\n"
      ],
      "metadata": {
        "colab": {
          "base_uri": "https://localhost:8080/"
        },
        "id": "fQaqjWXZx2rM",
        "outputId": "b4e089b9-14fd-4220-df45-f1d8191d55b0"
      },
      "execution_count": 6,
      "outputs": [
        {
          "output_type": "stream",
          "name": "stdout",
          "text": [
            "5 is a member of list x.\n"
          ]
        }
      ]
    },
    {
      "cell_type": "code",
      "source": [
        "y = [5,4,5,6,2,6,3,7,8,4,1]"
      ],
      "metadata": {
        "id": "GMCrLPvNx2tc"
      },
      "execution_count": 7,
      "outputs": []
    },
    {
      "cell_type": "code",
      "source": [
        "print(y)"
      ],
      "metadata": {
        "colab": {
          "base_uri": "https://localhost:8080/"
        },
        "id": "neEljUW1x2wB",
        "outputId": "df51dce8-30b7-4a5a-dbc3-96f06470cad5"
      },
      "execution_count": 8,
      "outputs": [
        {
          "output_type": "stream",
          "name": "stdout",
          "text": [
            "[5, 4, 5, 6, 2, 6, 3, 7, 8, 4, 1]\n"
          ]
        }
      ]
    },
    {
      "cell_type": "code",
      "source": [
        "for b in y:\n",
        "  print(b)"
      ],
      "metadata": {
        "colab": {
          "base_uri": "https://localhost:8080/"
        },
        "id": "nkBUa1wzx2yo",
        "outputId": "9a4985c8-4255-49f5-b667-670d26fa7083"
      },
      "execution_count": 9,
      "outputs": [
        {
          "output_type": "stream",
          "name": "stdout",
          "text": [
            "5\n",
            "4\n",
            "5\n",
            "6\n",
            "2\n",
            "6\n",
            "3\n",
            "7\n",
            "8\n",
            "4\n",
            "1\n"
          ]
        }
      ]
    },
    {
      "cell_type": "code",
      "source": [
        "for a in x:\n",
        "  print(a, end = ' ')"
      ],
      "metadata": {
        "colab": {
          "base_uri": "https://localhost:8080/"
        },
        "id": "sg0ct_fjxw9u",
        "outputId": "04ca99a9-19cf-4ae6-fdf0-8241a65eebed"
      },
      "execution_count": 10,
      "outputs": [
        {
          "output_type": "stream",
          "name": "stdout",
          "text": [
            "2 5 13 Karteek Edumudi "
          ]
        }
      ]
    },
    {
      "cell_type": "code",
      "source": [
        "import random"
      ],
      "metadata": {
        "id": "QEYXFZewztQd"
      },
      "execution_count": 11,
      "outputs": []
    },
    {
      "cell_type": "code",
      "source": [
        "random.randint(1,10)"
      ],
      "metadata": {
        "colab": {
          "base_uri": "https://localhost:8080/"
        },
        "id": "Kuu4d5s8z81L",
        "outputId": "53d907de-46e4-4b4e-95a7-8e902f257c76"
      },
      "execution_count": 13,
      "outputs": [
        {
          "output_type": "execute_result",
          "data": {
            "text/plain": [
              "2"
            ]
          },
          "metadata": {},
          "execution_count": 13
        }
      ]
    },
    {
      "cell_type": "code",
      "source": [
        "for j in range(10):\n",
        "  for i in range(10):\n",
        "    print(random.randint(0,9), end = ' ')\n",
        "  print()"
      ],
      "metadata": {
        "colab": {
          "base_uri": "https://localhost:8080/"
        },
        "id": "qkYFdNb7z-kk",
        "outputId": "948a2723-d39c-42e1-e75f-b73e5ef7d30a"
      },
      "execution_count": 20,
      "outputs": [
        {
          "output_type": "stream",
          "name": "stdout",
          "text": [
            "6 7 5 2 1 5 5 5 4 7 \n",
            "9 9 2 4 4 1 1 1 1 8 \n",
            "7 3 5 2 5 5 2 5 6 1 \n",
            "4 1 3 1 6 1 5 6 0 1 \n",
            "5 8 1 8 0 9 4 7 0 6 \n",
            "7 3 5 9 3 4 3 1 6 1 \n",
            "0 6 5 8 1 9 3 7 9 2 \n",
            "3 7 9 5 3 1 9 7 2 3 \n",
            "0 7 4 6 1 0 7 8 3 6 \n",
            "8 8 3 5 8 7 9 0 2 6 \n"
          ]
        }
      ]
    },
    {
      "cell_type": "code",
      "source": [
        ""
      ],
      "metadata": {
        "id": "8Xl-W6f_00S1"
      },
      "execution_count": null,
      "outputs": []
    }
  ]
}