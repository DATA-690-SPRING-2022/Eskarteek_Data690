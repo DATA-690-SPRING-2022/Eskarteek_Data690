{
  "nbformat": 4,
  "nbformat_minor": 0,
  "metadata": {
    "colab": {
      "name": "In_class_3.ipynb",
      "provenance": [],
      "authorship_tag": "ABX9TyPhwnk8/Yo+sFY3POItHFRv",
      "include_colab_link": true
    },
    "kernelspec": {
      "name": "python3",
      "display_name": "Python 3"
    },
    "language_info": {
      "name": "python"
    }
  },
  "cells": [
    {
      "cell_type": "markdown",
      "metadata": {
        "id": "view-in-github",
        "colab_type": "text"
      },
      "source": [
        "<a href=\"https://colab.research.google.com/github/Eskarteek/Eskarteek_Data690/blob/main/assignment_03/In_class_03.ipynb\" target=\"_parent\"><img src=\"https://colab.research.google.com/assets/colab-badge.svg\" alt=\"Open In Colab\"/></a>"
      ]
    },
    {
      "cell_type": "markdown",
      "source": [
        "# Assignment_03\n",
        "\n",
        "## In class practice \n",
        "\n",
        "- Name: Sai Karteek\n",
        "\n",
        "- Date: 02/14/2022"
      ],
      "metadata": {
        "id": "YUqLmPPew-DR"
      }
    },
    {
      "cell_type": "code",
      "execution_count": 1,
      "metadata": {
        "id": "1nBy-raQw37r"
      },
      "outputs": [],
      "source": [
        "x = [2,5,13,'Karteek','Edumudi']"
      ]
    },
    {
      "cell_type": "code",
      "source": [
        "print(x)"
      ],
      "metadata": {
        "colab": {
          "base_uri": "https://localhost:8080/"
        },
        "id": "TY9_sGjfxKye",
        "outputId": "e6a96f34-64f1-4ae5-dfa6-ea8c90e3ae8d"
      },
      "execution_count": 2,
      "outputs": [
        {
          "output_type": "stream",
          "name": "stdout",
          "text": [
            "[2, 5, 13, 'Karteek', 'Edumudi']\n"
          ]
        }
      ]
    },
    {
      "cell_type": "code",
      "source": [
        "# for a in x:"
      ],
      "metadata": {
        "id": "yv1SE72OxODJ"
      },
      "execution_count": 5,
      "outputs": []
    },
    {
      "cell_type": "code",
      "source": [
        "5 in x"
      ],
      "metadata": {
        "colab": {
          "base_uri": "https://localhost:8080/"
        },
        "id": "s8OZWX-uxs8-",
        "outputId": "dd05e0fa-88a4-4624-bc47-63e8442c9edf"
      },
      "execution_count": 4,
      "outputs": [
        {
          "output_type": "execute_result",
          "data": {
            "text/plain": [
              "True"
            ]
          },
          "metadata": {},
          "execution_count": 4
        }
      ]
    },
    {
      "cell_type": "code",
      "source": [
        "if 5 in x:\n",
        "  print(\"5 is a member of list x.\")\n",
        "else:\n",
        "  print('')\n"
      ],
      "metadata": {
        "id": "fQaqjWXZx2rM"
      },
      "execution_count": null,
      "outputs": []
    },
    {
      "cell_type": "code",
      "source": [
        ""
      ],
      "metadata": {
        "id": "GMCrLPvNx2tc"
      },
      "execution_count": null,
      "outputs": []
    },
    {
      "cell_type": "code",
      "source": [
        ""
      ],
      "metadata": {
        "id": "neEljUW1x2wB"
      },
      "execution_count": null,
      "outputs": []
    },
    {
      "cell_type": "code",
      "source": [
        ""
      ],
      "metadata": {
        "id": "nkBUa1wzx2yo"
      },
      "execution_count": null,
      "outputs": []
    },
    {
      "cell_type": "code",
      "source": [
        ""
      ],
      "metadata": {
        "id": "sg0ct_fjxw9u"
      },
      "execution_count": null,
      "outputs": []
    }
  ]
}